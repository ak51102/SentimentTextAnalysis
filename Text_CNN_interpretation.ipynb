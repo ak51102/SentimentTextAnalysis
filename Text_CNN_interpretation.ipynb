{
  "nbformat": 4,
  "nbformat_minor": 0,
  "metadata": {
    "colab": {
      "name": "Text CNN interpretation.ipynb",
      "provenance": [],
      "collapsed_sections": [],
      "include_colab_link": true
    },
    "kernelspec": {
      "name": "python3",
      "display_name": "Python 3"
    },
    "accelerator": "GPU"
  },
  "cells": [
    {
      "cell_type": "markdown",
      "metadata": {
        "id": "view-in-github",
        "colab_type": "text"
      },
      "source": [
        "<a href=\"https://colab.research.google.com/github/cagBRT/SentimentTextAnalysis/blob/master/Text_CNN_interpretation.ipynb\" target=\"_parent\"><img src=\"https://colab.research.google.com/assets/colab-badge.svg\" alt=\"Open In Colab\"/></a>"
      ]
    },
    {
      "cell_type": "markdown",
      "metadata": {
        "id": "OQks4AYIpcfZ",
        "colab_type": "text"
      },
      "source": [
        "Can we view the words used to make predictions in a review?<br>\n",
        "https://towardsdatascience.com/viewing-text-through-the-eyes-of-a-machine-db30c744ee17\n"
      ]
    },
    {
      "cell_type": "code",
      "metadata": {
        "id": "5b4oYSO3X12O",
        "colab_type": "code",
        "outputId": "45d4da90-fe80-4a22-bff9-578ff6207503",
        "colab": {
          "base_uri": "https://localhost:8080/",
          "height": 218
        }
      },
      "source": [
        "# Clone the entire repo.\n",
        "%cd /content/\n",
        "!git clone  https://github.com/cagBRT/SentimentTextAnalysis.git cloned-repo\n",
        "%cd cloned-repo\n",
        "!ls"
      ],
      "execution_count": 1,
      "outputs": [
        {
          "output_type": "stream",
          "text": [
            "/content\n",
            "Cloning into 'cloned-repo'...\n",
            "remote: Enumerating objects: 16, done.\u001b[K\n",
            "remote: Counting objects: 100% (16/16), done.\u001b[K\n",
            "remote: Compressing objects: 100% (16/16), done.\u001b[K\n",
            "remote: Total 179 (delta 7), reused 0 (delta 0), pack-reused 163\u001b[K\n",
            "Receiving objects: 100% (179/179), 1.76 MiB | 3.61 MiB/s, done.\n",
            "Resolving deltas: 100% (104/104), done.\n",
            "/content/cloned-repo\n",
            "amazon_cells_labelled.txt  imdb_labelled.txt  Sentiment_Text_Analysis.ipynb\n",
            "coffeedata.csv\t\t   README.md\t      Text_CNN_interpretation.ipynb\n",
            "images\t\t\t   readme.txt\t      yelp_labelled.txt\n"
          ],
          "name": "stdout"
        }
      ]
    },
    {
      "cell_type": "markdown",
      "metadata": {
        "id": "RRqw5mjsUkyE",
        "colab_type": "text"
      },
      "source": [
        "## CNN intepretation for text classification\n",
        "Creating a heatmap identify words and phrases which correlate to model predictions"
      ]
    },
    {
      "cell_type": "code",
      "metadata": {
        "id": "nW80ctOZh-4Z",
        "colab_type": "code",
        "outputId": "8275d0f5-3840-4d75-8229-42dea218ca91",
        "colab": {
          "base_uri": "https://localhost:8080/",
          "height": 70
        }
      },
      "source": [
        "import os\n",
        "import pandas as pd\n",
        "import numpy as np\n",
        "import matplotlib.pyplot as plt\n",
        "import math\n",
        "from IPython.display import HTML\n",
        "from sklearn.model_selection import train_test_split\n",
        "from numpy import array\n",
        "from numpy import argmax\n",
        "from keras.utils import to_categorical\n",
        "from keras.models import Model\n",
        "from keras import backend as K \n",
        "from keras.models import Sequential\n",
        "from keras import layers\n",
        "from keras.preprocessing.sequence import pad_sequences\n",
        "from keras.preprocessing.text import Tokenizer\n",
        "\n",
        "\n",
        "pd.options.display.max_rows\n",
        "pd.set_option('display.max_colwidth', -1)"
      ],
      "execution_count": 2,
      "outputs": [
        {
          "output_type": "stream",
          "text": [
            "Using TensorFlow backend.\n",
            "/usr/local/lib/python3.6/dist-packages/ipykernel_launcher.py:20: FutureWarning: Passing a negative integer is deprecated in version 1.0 and will not be supported in future version. Instead, use None to not limit the column width.\n"
          ],
          "name": "stderr"
        }
      ]
    },
    {
      "cell_type": "code",
      "metadata": {
        "id": "FXiBeZawi9SR",
        "colab_type": "code",
        "outputId": "9b730a2b-4ed9-43cb-a290-c641395bacf0",
        "colab": {
          "base_uri": "https://localhost:8080/",
          "height": 84
        }
      },
      "source": [
        "df = pd.read_csv('/content/cloned-repo/coffeedata.csv') #from https://drive.google.com/open?id=17jYWjTHrwMegjdTYs0YLXyc9PDRLOSi1\n",
        "#data clean:\n",
        "df['light_dark'] = np.where(df.roast=='Very Dark','Dark',df.roast)\n",
        "df = df.loc[(df.light_dark=='Dark')|(df.light_dark=='Light')]\n",
        "df = df.loc[(df.blind_assesment.str.len()>10)]\n",
        "df['y'] = np.where(df.light_dark=='Light',1,0)\n",
        "df.light_dark.value_counts()\n",
        "df.columns"
      ],
      "execution_count": 3,
      "outputs": [
        {
          "output_type": "execute_result",
          "data": {
            "text/plain": [
              "Index(['rating', 'company', 'coffee_name', 'location', 'origin', 'roast',\n",
              "       'review_date', 'agtron', 'acidity', 'body', 'flavor', 'blind_assesment',\n",
              "       'notes', 'bottom_line', 'light_dark', 'y'],\n",
              "      dtype='object')"
            ]
          },
          "metadata": {
            "tags": []
          },
          "execution_count": 3
        }
      ]
    },
    {
      "cell_type": "code",
      "metadata": {
        "id": "rpHmBzK3iqNI",
        "colab_type": "code",
        "outputId": "57f3c0e0-c868-4c12-8e6e-c840564de0a2",
        "colab": {
          "base_uri": "https://localhost:8080/",
          "height": 642
        }
      },
      "source": [
        "X = df.blind_assesment.values\n",
        "y = df.y.values\n",
        "\n",
        "tokenizer = Tokenizer(num_words=4000)\n",
        "tokenizer.fit_on_texts(X)\n",
        "\n",
        "X = tokenizer.texts_to_sequences(X)\n",
        "\n",
        "vocab_size = len(tokenizer.word_index) + 1  # Adding 1 because of reserved 0 index\n",
        "\n",
        "maxlen = 200\n",
        "embedding_dim = 50\n",
        "\n",
        "X = pad_sequences(X, padding='post', maxlen=maxlen)\n",
        "\n",
        "\n",
        "sequence_input = layers.Input(shape=(maxlen,), dtype='int32')\n",
        "embedded_sequences = layers.Embedding(vocab_size, embedding_dim, input_length=maxlen)(sequence_input)\n",
        "l_cov1  = layers.Conv1D(317, 3, activation='relu')(embedded_sequences)\n",
        "l_pool1 = layers.MaxPooling1D(2)(l_cov1)\n",
        "l_cov2  = layers.Conv1D(317, 1, activation='relu')(l_pool1)\n",
        "l_cov3  = layers.Conv1D(317, 2, activation='relu')(l_cov2)\n",
        "l_pool3 = layers.GlobalMaxPooling1D()(l_cov3)  # global max pooling\n",
        "l_bnorm = layers.BatchNormalization()(l_pool3)\n",
        "l_dense = layers.Dense(128, activation='relu')(l_pool3)\n",
        "preds   = layers.Dense(1, activation='sigmoid',name='preds')(l_dense)\n",
        "\n",
        "\n",
        "model = Model(sequence_input, outputs=preds)\n",
        "\n",
        "model.compile(optimizer='adam',\n",
        "              loss='binary_crossentropy',\n",
        "              metrics=['accuracy'])\n",
        "model.summary()\n",
        "\n",
        "model.fit(X, y, epochs=3, validation_split=0.1, batch_size=10)"
      ],
      "execution_count": 5,
      "outputs": [
        {
          "output_type": "stream",
          "text": [
            "Model: \"model_2\"\n",
            "_________________________________________________________________\n",
            "Layer (type)                 Output Shape              Param #   \n",
            "=================================================================\n",
            "input_2 (InputLayer)         (None, 200)               0         \n",
            "_________________________________________________________________\n",
            "embedding_2 (Embedding)      (None, 200, 50)           81550     \n",
            "_________________________________________________________________\n",
            "conv1d_4 (Conv1D)            (None, 198, 317)          47867     \n",
            "_________________________________________________________________\n",
            "max_pooling1d_2 (MaxPooling1 (None, 99, 317)           0         \n",
            "_________________________________________________________________\n",
            "conv1d_5 (Conv1D)            (None, 99, 317)           100806    \n",
            "_________________________________________________________________\n",
            "conv1d_6 (Conv1D)            (None, 98, 317)           201295    \n",
            "_________________________________________________________________\n",
            "global_max_pooling1d_2 (Glob (None, 317)               0         \n",
            "_________________________________________________________________\n",
            "dense_2 (Dense)              (None, 128)               40704     \n",
            "_________________________________________________________________\n",
            "preds (Dense)                (None, 1)                 129       \n",
            "=================================================================\n",
            "Total params: 472,351\n",
            "Trainable params: 472,351\n",
            "Non-trainable params: 0\n",
            "_________________________________________________________________\n"
          ],
          "name": "stdout"
        },
        {
          "output_type": "stream",
          "text": [
            "/usr/local/lib/python3.6/dist-packages/tensorflow/python/framework/indexed_slices.py:434: UserWarning: Converting sparse IndexedSlices to a dense Tensor of unknown shape. This may consume a large amount of memory.\n",
            "  \"Converting sparse IndexedSlices to a dense Tensor of unknown shape. \"\n"
          ],
          "name": "stderr"
        },
        {
          "output_type": "stream",
          "text": [
            "Train on 481 samples, validate on 54 samples\n",
            "Epoch 1/3\n",
            "481/481 [==============================] - 0s 898us/step - loss: 0.5222 - accuracy: 0.7817 - val_loss: 1.0693 - val_accuracy: 0.1111\n",
            "Epoch 2/3\n",
            "481/481 [==============================] - 0s 476us/step - loss: 0.3267 - accuracy: 0.8399 - val_loss: 0.8735 - val_accuracy: 0.6296\n",
            "Epoch 3/3\n",
            "481/481 [==============================] - 0s 522us/step - loss: 0.1837 - accuracy: 0.9418 - val_loss: 0.5504 - val_accuracy: 0.7593\n"
          ],
          "name": "stdout"
        },
        {
          "output_type": "execute_result",
          "data": {
            "text/plain": [
              "<keras.callbacks.callbacks.History at 0x7f12ac291e10>"
            ]
          },
          "metadata": {
            "tags": []
          },
          "execution_count": 5
        }
      ]
    },
    {
      "cell_type": "code",
      "metadata": {
        "colab_type": "code",
        "cellView": "form",
        "id": "rlWayo2v876a",
        "outputId": "9e0ffce3-f354-4ccd-c7cb-9e8abcc1af1f",
        "colab": {
          "base_uri": "https://localhost:8080/",
          "height": 114
        }
      },
      "source": [
        "#@title ## Coffee darkness predictor\n",
        "#@markdown Try-it-out by pasting or typing your coffee taste description below:\n",
        "type_here = \"rich and smooth lush fruity quiet tart finish\"#@param {type:\"string\"}\n",
        "maxlen = 200\n",
        "Xtst = tokenizer.texts_to_sequences([type_here])\n",
        "Xtst = pad_sequences(Xtst, padding='post', maxlen=maxlen)\n",
        "\n",
        "y_pred = model.predict(Xtst)\n",
        "\n",
        "class_idx = np.argmax(y_pred[0]) #not needed in this case as only two classes\n",
        "class_output = model.output[:, class_idx]\n",
        "last_conv_layer = model.get_layer(\"conv1d_6\")\n",
        "\n",
        "grads = K.gradients(class_output, last_conv_layer.output)[0]\n",
        "pooled_grads = K.mean(grads)\n",
        "iterate = K.function([model.input], [pooled_grads, last_conv_layer.output[0]])\n",
        "pooled_grads_value, conv_layer_output_value = iterate([Xtst])\n",
        "\n",
        "    \n",
        "heatmap = np.mean(conv_layer_output_value, axis=-1)\n",
        "heatmap = np.maximum(heatmap,0)\n",
        "heatmap /= np.max(heatmap)#normalise values in the prediction\n",
        "\n",
        "norm_len = maxlen/last_conv_layer.output_shape[1] # find the ratio of the text vs the conv layer length\n",
        "\n",
        "html = \"\"\n",
        "if y_pred[0]>0.5:\n",
        "  pred = 'light'\n",
        "else:\n",
        "  pred = 'dark'\n",
        "html += \"<span><h3>Based on the description, the model believes that this is a {} coffee roast. \".format(pred)\n",
        "html += \"<small><br>Confidence: {:.0f}%<br><br></small></h3></span>\".format(abs(((y_pred[0][0]*100)-50)*2))\n",
        "for j,i in enumerate(tokenizer.sequences_to_texts(Xtst)[0].split()):\n",
        "  html += \"<span style='background-color:rgba({},0,150,{})'>{} </span>\".format(heatmap[math.floor(j/norm_len)]*255,heatmap[math.floor(j/norm_len)]-0.3,i)\n",
        "\n",
        "HTML(html)\n"
      ],
      "execution_count": 13,
      "outputs": [
        {
          "output_type": "execute_result",
          "data": {
            "text/html": [
              "<span><h3>Based on the description, the model believes that this is a light coffee roast. <small><br>Confidence: 64%<br><br></small></h3></span><span style='background-color:rgba(72.69385367631912,0,150,-0.014926064014434803)'>rich </span><span style='background-color:rgba(72.69385367631912,0,150,-0.014926064014434803)'>and </span><span style='background-color:rgba(72.69385367631912,0,150,-0.014926064014434803)'>smooth </span><span style='background-color:rgba(197.6146736741066,0,150,0.4749595046043396)'>lush </span><span style='background-color:rgba(197.6146736741066,0,150,0.4749595046043396)'>fruity </span><span style='background-color:rgba(255.0,0,150,0.7)'>quiet </span><span style='background-color:rgba(255.0,0,150,0.7)'>tart </span><span style='background-color:rgba(64.76506233215332,0,150,-0.0460193634033203)'>finish </span>"
            ],
            "text/plain": [
              "<IPython.core.display.HTML object>"
            ]
          },
          "metadata": {
            "tags": []
          },
          "execution_count": 13
        }
      ]
    }
  ]
}