{
  "nbformat": 4,
  "nbformat_minor": 0,
  "metadata": {
    "colab": {
      "name": "Text CNN interpretation.ipynb",
      "provenance": [],
      "collapsed_sections": [],
      "include_colab_link": true
    },
    "kernelspec": {
      "name": "python3",
      "display_name": "Python 3"
    },
    "accelerator": "GPU"
  },
  "cells": [
    {
      "cell_type": "markdown",
      "metadata": {
        "id": "view-in-github",
        "colab_type": "text"
      },
      "source": [
        "<a href=\"https://colab.research.google.com/github/cagBRT/SentimentTextAnalysis/blob/master/Text_CNN_interpretation.ipynb\" target=\"_parent\"><img src=\"https://colab.research.google.com/assets/colab-badge.svg\" alt=\"Open In Colab\"/></a>"
      ]
    },
    {
      "cell_type": "code",
      "metadata": {
        "id": "5b4oYSO3X12O",
        "colab_type": "code",
        "colab": {
          "base_uri": "https://localhost:8080/",
          "height": 218
        },
        "outputId": "e36bd7f9-8e1a-4c98-ed92-e74454f873dd"
      },
      "source": [
        "# Clone the entire repo.\n",
        "%cd /content/\n",
        "!git clone  https://github.com/cagBRT/SentimentTextAnalysis.git cloned-repo\n",
        "%cd cloned-repo\n",
        "!ls"
      ],
      "execution_count": 1,
      "outputs": [
        {
          "output_type": "stream",
          "text": [
            "/content\n",
            "Cloning into 'cloned-repo'...\n",
            "remote: Enumerating objects: 13, done.\u001b[K\n",
            "remote: Counting objects: 100% (13/13), done.\u001b[K\n",
            "remote: Compressing objects: 100% (13/13), done.\u001b[K\n",
            "remote: Total 176 (delta 5), reused 0 (delta 0), pack-reused 163\u001b[K\n",
            "Receiving objects: 100% (176/176), 1.76 MiB | 3.60 MiB/s, done.\n",
            "Resolving deltas: 100% (102/102), done.\n",
            "/content/cloned-repo\n",
            "amazon_cells_labelled.txt  imdb_labelled.txt  Sentiment_Text_Analysis.ipynb\n",
            "coffeedata.csv\t\t   README.md\t      Text_CNN_interpretation.ipynb\n",
            "images\t\t\t   readme.txt\t      yelp_labelled.txt\n"
          ],
          "name": "stdout"
        }
      ]
    },
    {
      "cell_type": "markdown",
      "metadata": {
        "id": "RRqw5mjsUkyE",
        "colab_type": "text"
      },
      "source": [
        "## CNN intepretation for text classification\n",
        "Creating a heatmap identify words and phrases which correlate to model predictions"
      ]
    },
    {
      "cell_type": "code",
      "metadata": {
        "id": "nW80ctOZh-4Z",
        "colab_type": "code",
        "outputId": "c775d69b-1fd8-4691-8bd7-aac4c853a013",
        "colab": {
          "base_uri": "https://localhost:8080/",
          "height": 70
        }
      },
      "source": [
        "import os\n",
        "import pandas as pd\n",
        "import numpy as np\n",
        "import matplotlib.pyplot as plt\n",
        "import math\n",
        "from IPython.display import HTML\n",
        "from sklearn.model_selection import train_test_split\n",
        "from numpy import array\n",
        "from numpy import argmax\n",
        "from keras.utils import to_categorical\n",
        "from keras.models import Model\n",
        "from keras import backend as K \n",
        "from keras.models import Sequential\n",
        "from keras import layers\n",
        "from keras.preprocessing.sequence import pad_sequences\n",
        "from keras.preprocessing.text import Tokenizer\n",
        "\n",
        "\n",
        "pd.options.display.max_rows\n",
        "pd.set_option('display.max_colwidth', -1)"
      ],
      "execution_count": 2,
      "outputs": [
        {
          "output_type": "stream",
          "text": [
            "Using TensorFlow backend.\n",
            "/usr/local/lib/python3.6/dist-packages/ipykernel_launcher.py:20: FutureWarning: Passing a negative integer is deprecated in version 1.0 and will not be supported in future version. Instead, use None to not limit the column width.\n"
          ],
          "name": "stderr"
        }
      ]
    },
    {
      "cell_type": "code",
      "metadata": {
        "id": "FXiBeZawi9SR",
        "colab_type": "code",
        "outputId": "eceafe03-a957-4f66-925e-4b6de8bd6c80",
        "colab": {
          "base_uri": "https://localhost:8080/",
          "height": 84
        }
      },
      "source": [
        "df = pd.read_csv('/content/cloned-repo/coffeedata.csv') #from https://drive.google.com/open?id=17jYWjTHrwMegjdTYs0YLXyc9PDRLOSi1\n",
        "#data clean:\n",
        "df['light_dark'] = np.where(df.roast=='Very Dark','Dark',df.roast)\n",
        "df = df.loc[(df.light_dark=='Dark')|(df.light_dark=='Light')]\n",
        "df = df.loc[(df.blind_assesment.str.len()>10)]\n",
        "df['y'] = np.where(df.light_dark=='Light',1,0)\n",
        "df.light_dark.value_counts()\n",
        "df.columns"
      ],
      "execution_count": 3,
      "outputs": [
        {
          "output_type": "execute_result",
          "data": {
            "text/plain": [
              "Index(['rating', 'company', 'coffee_name', 'location', 'origin', 'roast',\n",
              "       'review_date', 'agtron', 'acidity', 'body', 'flavor', 'blind_assesment',\n",
              "       'notes', 'bottom_line', 'light_dark', 'y'],\n",
              "      dtype='object')"
            ]
          },
          "metadata": {
            "tags": []
          },
          "execution_count": 3
        }
      ]
    },
    {
      "cell_type": "code",
      "metadata": {
        "id": "rpHmBzK3iqNI",
        "colab_type": "code",
        "outputId": "cc1c9e7e-91db-44ee-91e8-3f3377ab15eb",
        "colab": {
          "base_uri": "https://localhost:8080/",
          "height": 642
        }
      },
      "source": [
        "X = df.blind_assesment.values\n",
        "y = df.y.values\n",
        "\n",
        "tokenizer = Tokenizer(num_words=4000)\n",
        "tokenizer.fit_on_texts(X)\n",
        "\n",
        "X = tokenizer.texts_to_sequences(X)\n",
        "\n",
        "vocab_size = len(tokenizer.word_index) + 1  # Adding 1 because of reserved 0 index\n",
        "\n",
        "maxlen = 200\n",
        "embedding_dim = 50\n",
        "\n",
        "X = pad_sequences(X, padding='post', maxlen=maxlen)\n",
        "\n",
        "\n",
        "sequence_input = layers.Input(shape=(maxlen,), dtype='int32')\n",
        "embedded_sequences = layers.Embedding(vocab_size, embedding_dim, input_length=maxlen)(sequence_input)\n",
        "l_cov1  = layers.Conv1D(317, 3, activation='relu')(embedded_sequences)\n",
        "l_pool1 = layers.MaxPooling1D(2)(l_cov1)\n",
        "l_cov2  = layers.Conv1D(317, 1, activation='relu')(l_pool1)\n",
        "l_cov3  = layers.Conv1D(317, 2, activation='relu')(l_cov2)\n",
        "l_pool3 = layers.GlobalMaxPooling1D()(l_cov3)  # global max pooling\n",
        "l_bnorm = layers.BatchNormalization()(l_pool3)\n",
        "l_dense = layers.Dense(128, activation='relu')(l_pool3)\n",
        "preds   = layers.Dense(1, activation='sigmoid',name='preds')(l_dense)\n",
        "\n",
        "\n",
        "model = Model(sequence_input, outputs=preds)\n",
        "\n",
        "model.compile(optimizer='adam',\n",
        "              loss='binary_crossentropy',\n",
        "              metrics=['accuracy'])\n",
        "model.summary()\n",
        "\n",
        "model.fit(X, y, epochs=3, validation_split=0.1, batch_size=10)"
      ],
      "execution_count": 4,
      "outputs": [
        {
          "output_type": "stream",
          "text": [
            "Model: \"model_1\"\n",
            "_________________________________________________________________\n",
            "Layer (type)                 Output Shape              Param #   \n",
            "=================================================================\n",
            "input_1 (InputLayer)         (None, 200)               0         \n",
            "_________________________________________________________________\n",
            "embedding_1 (Embedding)      (None, 200, 50)           81550     \n",
            "_________________________________________________________________\n",
            "conv1d_1 (Conv1D)            (None, 198, 317)          47867     \n",
            "_________________________________________________________________\n",
            "max_pooling1d_1 (MaxPooling1 (None, 99, 317)           0         \n",
            "_________________________________________________________________\n",
            "conv1d_2 (Conv1D)            (None, 99, 317)           100806    \n",
            "_________________________________________________________________\n",
            "conv1d_3 (Conv1D)            (None, 98, 317)           201295    \n",
            "_________________________________________________________________\n",
            "global_max_pooling1d_1 (Glob (None, 317)               0         \n",
            "_________________________________________________________________\n",
            "dense_1 (Dense)              (None, 128)               40704     \n",
            "_________________________________________________________________\n",
            "preds (Dense)                (None, 1)                 129       \n",
            "=================================================================\n",
            "Total params: 472,351\n",
            "Trainable params: 472,351\n",
            "Non-trainable params: 0\n",
            "_________________________________________________________________\n"
          ],
          "name": "stdout"
        },
        {
          "output_type": "stream",
          "text": [
            "/usr/local/lib/python3.6/dist-packages/tensorflow/python/framework/indexed_slices.py:434: UserWarning: Converting sparse IndexedSlices to a dense Tensor of unknown shape. This may consume a large amount of memory.\n",
            "  \"Converting sparse IndexedSlices to a dense Tensor of unknown shape. \"\n"
          ],
          "name": "stderr"
        },
        {
          "output_type": "stream",
          "text": [
            "Train on 481 samples, validate on 54 samples\n",
            "Epoch 1/3\n",
            "481/481 [==============================] - 7s 14ms/step - loss: 0.5196 - accuracy: 0.7859 - val_loss: 1.1151 - val_accuracy: 0.1111\n",
            "Epoch 2/3\n",
            "481/481 [==============================] - 0s 499us/step - loss: 0.3594 - accuracy: 0.8108 - val_loss: 1.1105 - val_accuracy: 0.3704\n",
            "Epoch 3/3\n",
            "481/481 [==============================] - 0s 480us/step - loss: 0.1789 - accuracy: 0.9397 - val_loss: 3.1192 - val_accuracy: 0.3148\n"
          ],
          "name": "stdout"
        },
        {
          "output_type": "execute_result",
          "data": {
            "text/plain": [
              "<keras.callbacks.callbacks.History at 0x7f725042dd68>"
            ]
          },
          "metadata": {
            "tags": []
          },
          "execution_count": 4
        }
      ]
    },
    {
      "cell_type": "code",
      "metadata": {
        "colab_type": "code",
        "cellView": "both",
        "id": "rlWayo2v876a",
        "outputId": "3e31e868-f455-4aa6-e5d3-8b0b31a9a53d",
        "colab": {
          "base_uri": "https://localhost:8080/",
          "height": 114
        }
      },
      "source": [
        "#@title ## Coffee darkness predictor\n",
        "#@markdown Try-it-out by pasting or typing your coffee taste description below:\n",
        "type_here = \"A blend of beans spanning the globe. Roasted with a flavor as intense as the flame that birthed it, as rich as the soil it was grown in, and as smooth as the law will allow.\"#@param {type:\"string\"}\n",
        "maxlen = 200\n",
        "Xtst = tokenizer.texts_to_sequences([type_here])\n",
        "Xtst = pad_sequences(Xtst, padding='post', maxlen=maxlen)\n",
        "\n",
        "y_pred = model.predict(Xtst)\n",
        "\n",
        "class_idx = np.argmax(y_pred[0]) #not needed in this case as only two classes\n",
        "class_output = model.output[:, class_idx]\n",
        "last_conv_layer = model.get_layer(\"conv1d_3\")\n",
        "\n",
        "grads = K.gradients(class_output, last_conv_layer.output)[0]\n",
        "pooled_grads = K.mean(grads)\n",
        "iterate = K.function([model.input], [pooled_grads, last_conv_layer.output[0]])\n",
        "pooled_grads_value, conv_layer_output_value = iterate([Xtst])\n",
        "\n",
        "    \n",
        "heatmap = np.mean(conv_layer_output_value, axis=-1)\n",
        "heatmap = np.maximum(heatmap,0)\n",
        "heatmap /= np.max(heatmap)#normalise values in the prediction\n",
        "\n",
        "\n",
        "norm_len = maxlen/last_conv_layer.output_shape[1] # find the ratio of the text vs the conv layer length\n",
        "\n",
        "html = \"\"\n",
        "if y_pred[0]>0.5:\n",
        "  pred = 'light'\n",
        "else:\n",
        "  pred = 'dark'\n",
        "html += \"<span><h3>Based on the description, the model believes that this is a {} coffee roast. \".format(pred)\n",
        "html += \"<small><br>Confidence: {:.0f}%<br><br></small></h3></span>\".format(abs(((y_pred[0][0]*100)-50)*2))\n",
        "for j,i in enumerate(tokenizer.sequences_to_texts(Xtst)[0].split()):\n",
        "  html += \"<span style='background-color:rgba({},0,150,{})'>{} </span>\".format(heatmap[math.floor(j/norm_len)]*255,heatmap[math.floor(j/norm_len)]-0.3,i)\n",
        "\n",
        "HTML(html)\n"
      ],
      "execution_count": 6,
      "outputs": [
        {
          "output_type": "execute_result",
          "data": {
            "text/html": [
              "<span><h3>Based on the description, the model believes that this is a dark coffee roast. <small><br>Confidence: 91%<br><br></small></h3></span><span style='background-color:rgba(239.98189866542816,0,150,0.6411054849624633)'>a </span><span style='background-color:rgba(239.98189866542816,0,150,0.6411054849624633)'>blend </span><span style='background-color:rgba(239.98189866542816,0,150,0.6411054849624633)'>of </span><span style='background-color:rgba(238.56901288032532,0,150,0.6355647563934326)'>the </span><span style='background-color:rgba(238.56901288032532,0,150,0.6355647563934326)'>roasted </span><span style='background-color:rgba(255.0,0,150,0.7)'>with </span><span style='background-color:rgba(255.0,0,150,0.7)'>a </span><span style='background-color:rgba(229.15775388479233,0,150,0.5986578583717346)'>flavor </span><span style='background-color:rgba(229.15775388479233,0,150,0.5986578583717346)'>as </span><span style='background-color:rgba(207.91660487651825,0,150,0.5153592348098754)'>intense </span><span style='background-color:rgba(207.91660487651825,0,150,0.5153592348098754)'>as </span><span style='background-color:rgba(158.21293115615845,0,150,0.32044286727905275)'>the </span><span style='background-color:rgba(158.21293115615845,0,150,0.32044286727905275)'>that </span><span style='background-color:rgba(132.67951726913452,0,150,0.22031183242797853)'>it </span><span style='background-color:rgba(132.67951726913452,0,150,0.22031183242797853)'>as </span><span style='background-color:rgba(153.15332025289536,0,150,0.3006012558937073)'>rich </span><span style='background-color:rgba(153.15332025289536,0,150,0.3006012558937073)'>as </span><span style='background-color:rgba(177.37322062253952,0,150,0.39558125734329225)'>the </span><span style='background-color:rgba(177.37322062253952,0,150,0.39558125734329225)'>it </span><span style='background-color:rgba(235.03818154335022,0,150,0.6217183589935302)'>was </span><span style='background-color:rgba(235.03818154335022,0,150,0.6217183589935302)'>in </span><span style='background-color:rgba(252.30282872915268,0,150,0.689422857761383)'>and </span><span style='background-color:rgba(252.30282872915268,0,150,0.689422857761383)'>as </span><span style='background-color:rgba(228.72843772172928,0,150,0.5969742655754089)'>smooth </span><span style='background-color:rgba(228.72843772172928,0,150,0.5969742655754089)'>as </span><span style='background-color:rgba(189.1301393508911,0,150,0.44168682098388673)'>the </span>"
            ],
            "text/plain": [
              "<IPython.core.display.HTML object>"
            ]
          },
          "metadata": {
            "tags": []
          },
          "execution_count": 6
        }
      ]
    }
  ]
}