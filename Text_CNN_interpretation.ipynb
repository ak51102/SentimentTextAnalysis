{
  "nbformat": 4,
  "nbformat_minor": 0,
  "metadata": {
    "colab": {
      "name": "Text CNN interpretation.ipynb",
      "provenance": [],
      "collapsed_sections": [],
      "include_colab_link": true
    },
    "kernelspec": {
      "name": "python3",
      "display_name": "Python 3"
    },
    "accelerator": "GPU"
  },
  "cells": [
    {
      "cell_type": "markdown",
      "metadata": {
        "id": "view-in-github",
        "colab_type": "text"
      },
      "source": [
        "<a href=\"https://colab.research.google.com/github/cagBRT/SentimentTextAnalysis/blob/master/Text_CNN_interpretation.ipynb\" target=\"_parent\"><img src=\"https://colab.research.google.com/assets/colab-badge.svg\" alt=\"Open In Colab\"/></a>"
      ]
    },
    {
      "cell_type": "markdown",
      "metadata": {
        "id": "OQks4AYIpcfZ",
        "colab_type": "text"
      },
      "source": [
        "Can we view the words used to make predictions in a review?<br>\n",
        "https://towardsdatascience.com/viewing-text-through-the-eyes-of-a-machine-db30c744ee17\n"
      ]
    },
    {
      "cell_type": "code",
      "metadata": {
        "id": "5b4oYSO3X12O",
        "colab_type": "code",
        "outputId": "5ed0abcb-3cd1-420a-d638-0ab0ae965c01",
        "colab": {
          "base_uri": "https://localhost:8080/",
          "height": 225
        }
      },
      "source": [
        "# Clone the entire repo.\n",
        "%cd /content/\n",
        "!git clone  https://github.com/cagBRT/SentimentTextAnalysis.git cloned-repo\n",
        "%cd cloned-repo\n",
        "!ls"
      ],
      "execution_count": 1,
      "outputs": [
        {
          "output_type": "stream",
          "text": [
            "/content\n",
            "Cloning into 'cloned-repo'...\n",
            "remote: Enumerating objects: 25, done.\u001b[K\n",
            "remote: Counting objects: 100% (25/25), done.\u001b[K\n",
            "remote: Compressing objects: 100% (25/25), done.\u001b[K\n",
            "remote: Total 188 (delta 13), reused 0 (delta 0), pack-reused 163\u001b[K\n",
            "Receiving objects: 100% (188/188), 1.76 MiB | 6.99 MiB/s, done.\n",
            "Resolving deltas: 100% (110/110), done.\n",
            "/content/cloned-repo\n",
            "amazon_cells_labelled.txt  imdb_labelled.txt  Sentiment_Text_Analysis.ipynb\n",
            "coffeedata.csv\t\t   README.md\t      Text_CNN_interpretation.ipynb\n",
            "images\t\t\t   readme.txt\t      yelp_labelled.txt\n"
          ],
          "name": "stdout"
        }
      ]
    },
    {
      "cell_type": "markdown",
      "metadata": {
        "id": "RRqw5mjsUkyE",
        "colab_type": "text"
      },
      "source": [
        "## CNN intepretation for text classification\n",
        "Creating a heatmap identify words and phrases which correlate to model predictions"
      ]
    },
    {
      "cell_type": "code",
      "metadata": {
        "id": "nW80ctOZh-4Z",
        "colab_type": "code",
        "outputId": "ecbe8d02-a1ed-44fc-d496-308ade3198c3",
        "colab": {
          "base_uri": "https://localhost:8080/",
          "height": 72
        }
      },
      "source": [
        "import os\n",
        "import pandas as pd\n",
        "import numpy as np\n",
        "import matplotlib.pyplot as plt\n",
        "import math\n",
        "from IPython.display import HTML\n",
        "from sklearn.model_selection import train_test_split\n",
        "from numpy import array\n",
        "from numpy import argmax\n",
        "from keras.utils import to_categorical\n",
        "from keras.models import Model\n",
        "from keras import backend as K \n",
        "from keras.models import Sequential\n",
        "from keras import layers\n",
        "from keras.preprocessing.sequence import pad_sequences\n",
        "from keras.preprocessing.text import Tokenizer\n",
        "\n",
        "\n",
        "pd.options.display.max_rows\n",
        "pd.set_option('display.max_colwidth', -1)"
      ],
      "execution_count": 2,
      "outputs": [
        {
          "output_type": "stream",
          "text": [
            "Using TensorFlow backend.\n",
            "/usr/local/lib/python3.6/dist-packages/ipykernel_launcher.py:20: FutureWarning: Passing a negative integer is deprecated in version 1.0 and will not be supported in future version. Instead, use None to not limit the column width.\n"
          ],
          "name": "stderr"
        }
      ]
    },
    {
      "cell_type": "code",
      "metadata": {
        "id": "FXiBeZawi9SR",
        "colab_type": "code",
        "outputId": "617099df-c509-4bf2-88ab-59e2ebfe9c67",
        "colab": {
          "base_uri": "https://localhost:8080/",
          "height": 87
        }
      },
      "source": [
        "df = pd.read_csv('/content/cloned-repo/coffeedata.csv') #from https://drive.google.com/open?id=17jYWjTHrwMegjdTYs0YLXyc9PDRLOSi1\n",
        "#data clean:\n",
        "df['light_dark'] = np.where(df.roast=='Very Dark','Dark',df.roast)\n",
        "df = df.loc[(df.light_dark=='Dark')|(df.light_dark=='Light')]\n",
        "df = df.loc[(df.blind_assesment.str.len()>10)]\n",
        "df['y'] = np.where(df.light_dark=='Light',1,0)\n",
        "df.light_dark.value_counts()\n",
        "df.columns"
      ],
      "execution_count": 3,
      "outputs": [
        {
          "output_type": "execute_result",
          "data": {
            "text/plain": [
              "Index(['rating', 'company', 'coffee_name', 'location', 'origin', 'roast',\n",
              "       'review_date', 'agtron', 'acidity', 'body', 'flavor', 'blind_assesment',\n",
              "       'notes', 'bottom_line', 'light_dark', 'y'],\n",
              "      dtype='object')"
            ]
          },
          "metadata": {
            "tags": []
          },
          "execution_count": 3
        }
      ]
    },
    {
      "cell_type": "code",
      "metadata": {
        "id": "rpHmBzK3iqNI",
        "colab_type": "code",
        "outputId": "821e2ad4-e765-4264-f8f8-352170d3cead",
        "colab": {
          "base_uri": "https://localhost:8080/",
          "height": 661
        }
      },
      "source": [
        "X = df.blind_assesment.values\n",
        "y = df.y.values\n",
        "\n",
        "tokenizer = Tokenizer(num_words=4000)\n",
        "tokenizer.fit_on_texts(X)\n",
        "\n",
        "X = tokenizer.texts_to_sequences(X)\n",
        "\n",
        "vocab_size = len(tokenizer.word_index) + 1  # Adding 1 because of reserved 0 index\n",
        "\n",
        "maxlen = 200\n",
        "embedding_dim = 50\n",
        "\n",
        "X = pad_sequences(X, padding='post', maxlen=maxlen)\n",
        "\n",
        "\n",
        "sequence_input = layers.Input(shape=(maxlen,), dtype='int32')\n",
        "embedded_sequences = layers.Embedding(vocab_size, embedding_dim, input_length=maxlen)(sequence_input)\n",
        "l_cov1  = layers.Conv1D(317, 3, activation='relu')(embedded_sequences)\n",
        "l_pool1 = layers.MaxPooling1D(2)(l_cov1)\n",
        "l_cov2  = layers.Conv1D(317, 1, activation='relu')(l_pool1)\n",
        "l_cov3  = layers.Conv1D(317, 2, activation='relu')(l_cov2)\n",
        "l_pool3 = layers.GlobalMaxPooling1D()(l_cov3)  # global max pooling\n",
        "l_bnorm = layers.BatchNormalization()(l_pool3)\n",
        "l_dense = layers.Dense(128, activation='relu')(l_pool3)\n",
        "preds   = layers.Dense(1, activation='sigmoid',name='preds')(l_dense)\n",
        "\n",
        "\n",
        "model = Model(sequence_input, outputs=preds)\n",
        "\n",
        "model.compile(optimizer='adam',\n",
        "              loss='binary_crossentropy',\n",
        "              metrics=['accuracy'])\n",
        "model.summary()\n",
        "\n",
        "model.fit(X, y, epochs=3, validation_split=0.1, batch_size=10)"
      ],
      "execution_count": 4,
      "outputs": [
        {
          "output_type": "stream",
          "text": [
            "Model: \"model_1\"\n",
            "_________________________________________________________________\n",
            "Layer (type)                 Output Shape              Param #   \n",
            "=================================================================\n",
            "input_1 (InputLayer)         (None, 200)               0         \n",
            "_________________________________________________________________\n",
            "embedding_1 (Embedding)      (None, 200, 50)           81550     \n",
            "_________________________________________________________________\n",
            "conv1d_1 (Conv1D)            (None, 198, 317)          47867     \n",
            "_________________________________________________________________\n",
            "max_pooling1d_1 (MaxPooling1 (None, 99, 317)           0         \n",
            "_________________________________________________________________\n",
            "conv1d_2 (Conv1D)            (None, 99, 317)           100806    \n",
            "_________________________________________________________________\n",
            "conv1d_3 (Conv1D)            (None, 98, 317)           201295    \n",
            "_________________________________________________________________\n",
            "global_max_pooling1d_1 (Glob (None, 317)               0         \n",
            "_________________________________________________________________\n",
            "dense_1 (Dense)              (None, 128)               40704     \n",
            "_________________________________________________________________\n",
            "preds (Dense)                (None, 1)                 129       \n",
            "=================================================================\n",
            "Total params: 472,351\n",
            "Trainable params: 472,351\n",
            "Non-trainable params: 0\n",
            "_________________________________________________________________\n"
          ],
          "name": "stdout"
        },
        {
          "output_type": "stream",
          "text": [
            "/usr/local/lib/python3.6/dist-packages/tensorflow/python/framework/indexed_slices.py:434: UserWarning: Converting sparse IndexedSlices to a dense Tensor of unknown shape. This may consume a large amount of memory.\n",
            "  \"Converting sparse IndexedSlices to a dense Tensor of unknown shape. \"\n"
          ],
          "name": "stderr"
        },
        {
          "output_type": "stream",
          "text": [
            "Train on 481 samples, validate on 54 samples\n",
            "Epoch 1/3\n",
            "481/481 [==============================] - 7s 14ms/step - loss: 0.5035 - accuracy: 0.7817 - val_loss: 1.1417 - val_accuracy: 0.1111\n",
            "Epoch 2/3\n",
            "481/481 [==============================] - 0s 511us/step - loss: 0.3435 - accuracy: 0.8399 - val_loss: 1.0065 - val_accuracy: 0.5000\n",
            "Epoch 3/3\n",
            "481/481 [==============================] - 0s 495us/step - loss: 0.2040 - accuracy: 0.9314 - val_loss: 0.4781 - val_accuracy: 0.7963\n"
          ],
          "name": "stdout"
        },
        {
          "output_type": "execute_result",
          "data": {
            "text/plain": [
              "<keras.callbacks.callbacks.History at 0x7fc7441f6fd0>"
            ]
          },
          "metadata": {
            "tags": []
          },
          "execution_count": 4
        }
      ]
    },
    {
      "cell_type": "code",
      "metadata": {
        "colab_type": "code",
        "cellView": "form",
        "id": "rlWayo2v876a",
        "outputId": "698c3929-7954-4bd3-aa31-0a9cfd051fe8",
        "colab": {
          "base_uri": "https://localhost:8080/",
          "height": 115
        }
      },
      "source": [
        "#@title ## Coffee darkness predictor\n",
        "#@markdown Try-it-out by pasting or typing your coffee taste description below:\n",
        "type_here = \"\"#@param {type:\"string\"}\n",
        "maxlen = 200\n",
        "Xtst = tokenizer.texts_to_sequences([type_here])\n",
        "Xtst = pad_sequences(Xtst, padding='post', maxlen=maxlen)\n",
        "\n",
        "y_pred = model.predict(Xtst)\n",
        "\n",
        "class_idx = np.argmax(y_pred[0]) #not needed in this case as only two classes\n",
        "class_output = model.output[:, class_idx]\n",
        "last_conv_layer = model.get_layer(\"conv1d_1\")\n",
        "\n",
        "grads = K.gradients(class_output, last_conv_layer.output)[0]\n",
        "pooled_grads = K.mean(grads)\n",
        "iterate = K.function([model.input], [pooled_grads, last_conv_layer.output[0]])\n",
        "pooled_grads_value, conv_layer_output_value = iterate([Xtst])\n",
        "\n",
        "    \n",
        "heatmap = np.mean(conv_layer_output_value, axis=-1)\n",
        "heatmap = np.maximum(heatmap,0)\n",
        "heatmap /= np.max(heatmap)#normalise values in the prediction\n",
        "\n",
        "norm_len = maxlen/last_conv_layer.output_shape[1] # find the ratio of the text vs the conv layer length\n",
        "\n",
        "html = \"\"\n",
        "if y_pred[0]>0.5:\n",
        "  pred = 'light'\n",
        "else:\n",
        "  pred = 'dark'\n",
        "html += \"<span><h3>Based on the description, the model believes that this is a {} coffee roast. \".format(pred)\n",
        "html += \"<small><br>Confidence: {:.0f}%<br><br></small></h3></span>\".format(abs(((y_pred[0][0]*100)-50)*2))\n",
        "for j,i in enumerate(tokenizer.sequences_to_texts(Xtst)[0].split()):\n",
        "  html += \"<span style='background-color:rgba({},0,150,{})'>{} </span>\".format(heatmap[math.floor(j/norm_len)]*255,heatmap[math.floor(j/norm_len)]-0.3,i)\n",
        "\n",
        "HTML(html)\n"
      ],
      "execution_count": 8,
      "outputs": [
        {
          "output_type": "execute_result",
          "data": {
            "text/html": [
              "<span><h3>Based on the description, the model believes that this is a light coffee roast. <small><br>Confidence: 79%<br><br></small></h3></span><span style='background-color:rgba(56.648933440446854,0,150,-0.07784731984138488)'>rich </span><span style='background-color:rgba(56.648933440446854,0,150,-0.07784731984138488)'>and </span><span style='background-color:rgba(53.120115995407104,0,150,-0.09168581962585448)'>smooth </span><span style='background-color:rgba(57.24198281764984,0,150,-0.0755216360092163)'>lush </span><span style='background-color:rgba(57.9131294041872,0,150,-0.07288968861103057)'>fruity </span><span style='background-color:rgba(255.0,0,150,0.7)'>quiet </span><span style='background-color:rgba(177.85497397184372,0,150,0.39747048616409303)'>tart </span><span style='background-color:rgba(189.85354453325272,0,150,0.44452370405197145)'>finish </span>"
            ],
            "text/plain": [
              "<IPython.core.display.HTML object>"
            ]
          },
          "metadata": {
            "tags": []
          },
          "execution_count": 8
        }
      ]
    }
  ]
}