{
  "nbformat": 4,
  "nbformat_minor": 0,
  "metadata": {
    "colab": {
      "name": "Text CNN interpretation.ipynb",
      "provenance": [],
      "collapsed_sections": [],
      "include_colab_link": true
    },
    "kernelspec": {
      "name": "python3",
      "display_name": "Python 3"
    },
    "accelerator": "GPU"
  },
  "cells": [
    {
      "cell_type": "markdown",
      "metadata": {
        "id": "view-in-github",
        "colab_type": "text"
      },
      "source": [
        "<a href=\"https://colab.research.google.com/github/cagBRT/SentimentTextAnalysis/blob/master/Text_CNN_interpretation.ipynb\" target=\"_parent\"><img src=\"https://colab.research.google.com/assets/colab-badge.svg\" alt=\"Open In Colab\"/></a>"
      ]
    },
    {
      "cell_type": "markdown",
      "metadata": {
        "id": "RRqw5mjsUkyE",
        "colab_type": "text"
      },
      "source": [
        "## CNN intepretation for text classification\n",
        "Creating a heatmap identify words and phrases which correlate to model predictions"
      ]
    },
    {
      "cell_type": "code",
      "metadata": {
        "id": "nW80ctOZh-4Z",
        "colab_type": "code",
        "outputId": "b951f7bc-7861-4d93-9121-b4f167ef07b1",
        "colab": {
          "base_uri": "https://localhost:8080/",
          "height": 70
        }
      },
      "source": [
        "import os\n",
        "import pandas as pd\n",
        "import numpy as np\n",
        "import matplotlib.pyplot as plt\n",
        "import math\n",
        "from IPython.display import HTML\n",
        "from sklearn.model_selection import train_test_split\n",
        "from numpy import array\n",
        "from numpy import argmax\n",
        "from keras.utils import to_categorical\n",
        "from keras.models import Model\n",
        "from keras import backend as K \n",
        "from keras.models import Sequential\n",
        "from keras import layers\n",
        "from keras.preprocessing.sequence import pad_sequences\n",
        "from keras.preprocessing.text import Tokenizer\n",
        "\n",
        "\n",
        "pd.options.display.max_rows\n",
        "pd.set_option('display.max_colwidth', -1)"
      ],
      "execution_count": 1,
      "outputs": [
        {
          "output_type": "stream",
          "text": [
            "Using TensorFlow backend.\n",
            "/usr/local/lib/python3.6/dist-packages/ipykernel_launcher.py:20: FutureWarning: Passing a negative integer is deprecated in version 1.0 and will not be supported in future version. Instead, use None to not limit the column width.\n"
          ],
          "name": "stderr"
        }
      ]
    },
    {
      "cell_type": "markdown",
      "metadata": {
        "id": "PFUxLzCKVEPZ",
        "colab_type": "text"
      },
      "source": [
        "CSV OF DATA AVALIABLE FROM: https://drive.google.com/open?id=17jYWjTHrwMegjdTYs0YLXyc9PDRLOSi1"
      ]
    },
    {
      "cell_type": "code",
      "metadata": {
        "id": "FXiBeZawi9SR",
        "colab_type": "code",
        "outputId": "9c80d558-8297-4a49-c9d1-4c65e60f79a3",
        "colab": {
          "base_uri": "https://localhost:8080/",
          "height": 67
        }
      },
      "source": [
        "df = pd.read_csv('/coffeedata.csv') #from https://drive.google.com/open?id=17jYWjTHrwMegjdTYs0YLXyc9PDRLOSi1\n",
        "#data clean:\n",
        "df['light_dark'] = np.where(df.roast=='Very Dark','Dark',df.roast)\n",
        "df = df.loc[(df.light_dark=='Dark')|(df.light_dark=='Light')]\n",
        "df = df.loc[(df.blind_assesment.str.len()>10)]\n",
        "df['y'] = np.where(df.light_dark=='Light',1,0)\n",
        "df.light_dark.value_counts()"
      ],
      "execution_count": 4,
      "outputs": [
        {
          "output_type": "execute_result",
          "data": {
            "text/plain": [
              "Light    384\n",
              "Dark     151\n",
              "Name: light_dark, dtype: int64"
            ]
          },
          "metadata": {
            "tags": []
          },
          "execution_count": 4
        }
      ]
    },
    {
      "cell_type": "code",
      "metadata": {
        "id": "rpHmBzK3iqNI",
        "colab_type": "code",
        "outputId": "691d5950-3590-4102-bc25-0f6d73adb241",
        "colab": {
          "base_uri": "https://localhost:8080/",
          "height": 642
        }
      },
      "source": [
        "X = df.blind_assesment.values\n",
        "y = df.y.values\n",
        "\n",
        "tokenizer = Tokenizer(num_words=4000)\n",
        "tokenizer.fit_on_texts(X)\n",
        "\n",
        "X = tokenizer.texts_to_sequences(X)\n",
        "\n",
        "vocab_size = len(tokenizer.word_index) + 1  # Adding 1 because of reserved 0 index\n",
        "\n",
        "maxlen = 200\n",
        "embedding_dim = 50\n",
        "\n",
        "X = pad_sequences(X, padding='post', maxlen=maxlen)\n",
        "\n",
        "\n",
        "sequence_input = layers.Input(shape=(maxlen,), dtype='int32')\n",
        "embedded_sequences = layers.Embedding(vocab_size, embedding_dim, input_length=maxlen)(sequence_input)\n",
        "l_cov1  = layers.Conv1D(317, 3, activation='relu')(embedded_sequences)\n",
        "l_pool1 = layers.MaxPooling1D(2)(l_cov1)\n",
        "l_cov2  = layers.Conv1D(317, 1, activation='relu')(l_pool1)\n",
        "l_cov3  = layers.Conv1D(317, 2, activation='relu')(l_cov2)\n",
        "l_pool3 = layers.GlobalMaxPooling1D()(l_cov3)  # global max pooling\n",
        "l_bnorm = layers.BatchNormalization()(l_pool3)\n",
        "l_dense = layers.Dense(128, activation='relu')(l_pool3)\n",
        "preds   = layers.Dense(1, activation='sigmoid',name='preds')(l_dense)\n",
        "\n",
        "\n",
        "model = Model(sequence_input, outputs=preds)\n",
        "\n",
        "model.compile(optimizer='adam',\n",
        "              loss='binary_crossentropy',\n",
        "              metrics=['accuracy'])\n",
        "model.summary()\n",
        "\n",
        "model.fit(X, y, epochs=3, validation_split=0.1, batch_size=10)"
      ],
      "execution_count": 5,
      "outputs": [
        {
          "output_type": "stream",
          "text": [
            "Model: \"model_1\"\n",
            "_________________________________________________________________\n",
            "Layer (type)                 Output Shape              Param #   \n",
            "=================================================================\n",
            "input_1 (InputLayer)         (None, 200)               0         \n",
            "_________________________________________________________________\n",
            "embedding_1 (Embedding)      (None, 200, 50)           81550     \n",
            "_________________________________________________________________\n",
            "conv1d_1 (Conv1D)            (None, 198, 317)          47867     \n",
            "_________________________________________________________________\n",
            "max_pooling1d_1 (MaxPooling1 (None, 99, 317)           0         \n",
            "_________________________________________________________________\n",
            "conv1d_2 (Conv1D)            (None, 99, 317)           100806    \n",
            "_________________________________________________________________\n",
            "conv1d_3 (Conv1D)            (None, 98, 317)           201295    \n",
            "_________________________________________________________________\n",
            "global_max_pooling1d_1 (Glob (None, 317)               0         \n",
            "_________________________________________________________________\n",
            "dense_1 (Dense)              (None, 128)               40704     \n",
            "_________________________________________________________________\n",
            "preds (Dense)                (None, 1)                 129       \n",
            "=================================================================\n",
            "Total params: 472,351\n",
            "Trainable params: 472,351\n",
            "Non-trainable params: 0\n",
            "_________________________________________________________________\n"
          ],
          "name": "stdout"
        },
        {
          "output_type": "stream",
          "text": [
            "/usr/local/lib/python3.6/dist-packages/tensorflow/python/framework/indexed_slices.py:434: UserWarning: Converting sparse IndexedSlices to a dense Tensor of unknown shape. This may consume a large amount of memory.\n",
            "  \"Converting sparse IndexedSlices to a dense Tensor of unknown shape. \"\n"
          ],
          "name": "stderr"
        },
        {
          "output_type": "stream",
          "text": [
            "Train on 481 samples, validate on 54 samples\n",
            "Epoch 1/3\n",
            "481/481 [==============================] - 7s 15ms/step - loss: 0.5041 - accuracy: 0.7755 - val_loss: 0.8991 - val_accuracy: 0.1111\n",
            "Epoch 2/3\n",
            "481/481 [==============================] - 0s 507us/step - loss: 0.3199 - accuracy: 0.8378 - val_loss: 0.6630 - val_accuracy: 0.7593\n",
            "Epoch 3/3\n",
            "481/481 [==============================] - 0s 498us/step - loss: 0.1567 - accuracy: 0.9356 - val_loss: 0.7004 - val_accuracy: 0.7963\n"
          ],
          "name": "stdout"
        },
        {
          "output_type": "execute_result",
          "data": {
            "text/plain": [
              "<keras.callbacks.callbacks.History at 0x7f77700b1b38>"
            ]
          },
          "metadata": {
            "tags": []
          },
          "execution_count": 5
        }
      ]
    },
    {
      "cell_type": "code",
      "metadata": {
        "colab_type": "code",
        "cellView": "form",
        "id": "rlWayo2v876a",
        "outputId": "ccee6249-4b94-44ce-942a-be22a617bf91",
        "colab": {
          "base_uri": "https://localhost:8080/",
          "height": 114
        }
      },
      "source": [
        "#@title ## Coffee darkness predictor\n",
        "#@markdown Try-it-out by pasting or typing your coffee taste description below:\n",
        "type_here = \"A blend of beans spanning the globe. Roasted with a flavor as intense as the flame that birthed it, as rich as the soil it was grown in, and as smooth as the law will allow.\"#@param {type:\"string\"}\n",
        "maxlen = 200\n",
        "Xtst = tokenizer.texts_to_sequences([type_here])\n",
        "Xtst = pad_sequences(Xtst, padding='post', maxlen=maxlen)\n",
        "\n",
        "y_pred = model.predict(Xtst)\n",
        "\n",
        "class_idx = np.argmax(y_pred[0]) #not needed in this case as only two classes\n",
        "class_output = model.output[:, class_idx]\n",
        "last_conv_layer = model.get_layer(\"conv1d_1\")\n",
        "\n",
        "grads = K.gradients(class_output, last_conv_layer.output)[0]\n",
        "pooled_grads = K.mean(grads)\n",
        "iterate = K.function([model.input], [pooled_grads, last_conv_layer.output[0]])\n",
        "pooled_grads_value, conv_layer_output_value = iterate([Xtst])\n",
        "\n",
        "    \n",
        "heatmap = np.mean(conv_layer_output_value, axis=-1)\n",
        "heatmap = np.maximum(heatmap,0)\n",
        "heatmap /= np.max(heatmap)#normalise values in the prediction\n",
        "\n",
        "\n",
        "norm_len = maxlen/last_conv_layer.output_shape[1] # find the ratio of the text vs the conv layer length\n",
        "\n",
        "html = \"\"\n",
        "if y_pred[0]>0.5:\n",
        "  pred = 'light'\n",
        "else:\n",
        "  pred = 'dark'\n",
        "html += \"<span><h3>Based on the description, the model believes that this is a {} coffee roast. \".format(pred)\n",
        "html += \"<small><br>Confidence: {:.0f}%<br><br></small></h3></span>\".format(abs(((y_pred[0][0]*100)-50)*2))\n",
        "for j,i in enumerate(tokenizer.sequences_to_texts(Xtst)[0].split()):\n",
        "  html += \"<span style='background-color:rgba({},0,150,{})'>{} </span>\".format(heatmap[math.floor(j/norm_len)]*255,heatmap[math.floor(j/norm_len)]-0.3,i)\n",
        "\n",
        "HTML(html)\n"
      ],
      "execution_count": 11,
      "outputs": [
        {
          "output_type": "execute_result",
          "data": {
            "text/html": [
              "<span><h3>Based on the description, the model believes that this is a dark coffee roast. <small><br>Confidence: 86%<br><br></small></h3></span><span style='background-color:rgba(255.0,0,150,0.7)'>a </span><span style='background-color:rgba(255.0,0,150,0.7)'>blend </span><span style='background-color:rgba(221.02059692144394,0,150,0.5667474389076232)'>of </span><span style='background-color:rgba(239.1050273180008,0,150,0.6376667737960815)'>the </span><span style='background-color:rgba(216.59921497106552,0,150,0.5494086861610412)'>roasted </span><span style='background-color:rgba(192.4536234140396,0,150,0.4547200918197632)'>with </span><span style='background-color:rgba(215.2298292517662,0,150,0.5440385460853576)'>a </span><span style='background-color:rgba(254.54592436552048,0,150,0.6982193112373352)'>flavor </span><span style='background-color:rgba(110.36532863974571,0,150,0.13280521035194398)'>as </span><span style='background-color:rgba(138.2825142145157,0,150,0.24228436946868898)'>intense </span><span style='background-color:rgba(150.73050945997238,0,150,0.2911000370979309)'>as </span><span style='background-color:rgba(205.31096309423447,0,150,0.5051410317420959)'>the </span><span style='background-color:rgba(249.4194370508194,0,150,0.678115439414978)'>that </span><span style='background-color:rgba(174.3513035774231,0,150,0.3837306022644043)'>it </span><span style='background-color:rgba(112.55733221769333,0,150,0.14140130281448365)'>as </span><span style='background-color:rgba(166.5088739991188,0,150,0.3529759764671326)'>rich </span><span style='background-color:rgba(152.38840609788895,0,150,0.297601592540741)'>as </span><span style='background-color:rgba(236.508991420269,0,150,0.6274862408638)'>the </span><span style='background-color:rgba(251.2064203619957,0,150,0.6851232171058654)'>it </span><span style='background-color:rgba(186.83726638555527,0,150,0.4326951622962952)'>was </span><span style='background-color:rgba(180.7868054509163,0,150,0.40896786451339723)'>in </span><span style='background-color:rgba(200.04718154668808,0,150,0.4844987511634827)'>and </span><span style='background-color:rgba(83.54451343417168,0,150,0.027625542879104625)'>as </span><span style='background-color:rgba(140.74184864759445,0,150,0.2519288182258606)'>smooth </span><span style='background-color:rgba(196.87450379133224,0,150,0.47205687761306764)'>as </span><span style='background-color:rgba(203.64198625087738,0,150,0.49859602451324464)'>the </span>"
            ],
            "text/plain": [
              "<IPython.core.display.HTML object>"
            ]
          },
          "metadata": {
            "tags": []
          },
          "execution_count": 11
        }
      ]
    }
  ]
}